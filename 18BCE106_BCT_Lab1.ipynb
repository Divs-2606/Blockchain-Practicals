{
  "nbformat": 4,
  "nbformat_minor": 0,
  "metadata": {
    "colab": {
      "name": "18BCE106_BCT_Lab1.ipynb",
      "provenance": [],
      "collapsed_sections": []
    },
    "kernelspec": {
      "display_name": "Python 3",
      "name": "python3"
    },
    "language_info": {
      "name": "python"
    }
  },
  "cells": [
    {
      "cell_type": "code",
      "metadata": {
        "id": "D5K5Ce3BhXpc"
      },
      "source": [
        ""
      ],
      "execution_count": null,
      "outputs": []
    },
    {
      "cell_type": "markdown",
      "metadata": {
        "id": "VO4KkVSRxHLO"
      },
      "source": [
        "# **Install**"
      ]
    },
    {
      "cell_type": "code",
      "metadata": {
        "colab": {
          "base_uri": "https://localhost:8080/"
        },
        "id": "_H9YG5L4mDUt",
        "outputId": "e049b799-d623-4044-ac20-580352cbe9d6"
      },
      "source": [
        "pip install pycryptodome"
      ],
      "execution_count": 2,
      "outputs": [
        {
          "output_type": "stream",
          "name": "stdout",
          "text": [
            "Collecting pycryptodome\n",
            "  Downloading pycryptodome-3.10.1-cp35-abi3-manylinux2010_x86_64.whl (1.9 MB)\n",
            "\u001b[K     |████████████████████████████████| 1.9 MB 2.7 MB/s \n",
            "\u001b[?25hInstalling collected packages: pycryptodome\n",
            "Successfully installed pycryptodome-3.10.1\n"
          ]
        }
      ]
    },
    {
      "cell_type": "code",
      "metadata": {
        "colab": {
          "background_save": true
        },
        "id": "OTpeI0nCpfSb"
      },
      "source": [
        ""
      ],
      "execution_count": null,
      "outputs": []
    },
    {
      "cell_type": "markdown",
      "metadata": {
        "id": "_XcEqc4Iw6uq"
      },
      "source": [
        "# **SHA- 3-512  bits**\n"
      ]
    },
    {
      "cell_type": "code",
      "metadata": {
        "colab": {
          "base_uri": "https://localhost:8080/"
        },
        "id": "TKNu2NUgrIrw",
        "outputId": "aefce038-9373-43ad-c900-e3eeb0acb6b6"
      },
      "source": [
        "from Crypto.Hash import SHA256\n",
        "h =  SHA256.new()\n",
        "h.update(b'18BCE120 Mehta Prince S')\n",
        "print(h.digest())\n",
        "print(h.hexdigest())"
      ],
      "execution_count": 3,
      "outputs": [
        {
          "output_type": "stream",
          "name": "stdout",
          "text": [
            "b'Y\\x04\\xec0\\xb8Ag\\xdev\\xda\\x14Y*\\x16\\xb3?\\x87\\xfe]w:\\xac.D\\xc8nB\\xd4\\xdb\\xad\\x93D'\n",
            "5904ec30b84167de76da14592a16b33f87fe5d773aac2e44c86e42d4dbad9344\n"
          ]
        }
      ]
    },
    {
      "cell_type": "code",
      "metadata": {
        "colab": {
          "base_uri": "https://localhost:8080/"
        },
        "id": "MdhqZyJVrygT",
        "outputId": "d7047870-c86d-4223-ef84-38a6bebe764e"
      },
      "source": [
        "# avalanche effect\n",
        "h.update(b'8BCE120 Mehta Prince S')\n",
        "print(h.digest())\n",
        "print(h.hexdigest())"
      ],
      "execution_count": 4,
      "outputs": [
        {
          "output_type": "stream",
          "name": "stdout",
          "text": [
            "b'\\x1c:\\xb6\\x1a\\xa4\\x03\\x8a\\xe8\\x81\\xe3\\xc9\\x84\\xbf\\x87a\\x00\\xc3\\xda\\xd6(\\xb22\\xcf\\xd8\\x9c\\xe2\\xbd\\x19\\xa5\\x80,\\x9f'\n",
            "1c3ab61aa4038ae881e3c984bf876100c3dad628b232cfd89ce2bd19a5802c9f\n"
          ]
        }
      ]
    },
    {
      "cell_type": "code",
      "metadata": {
        "colab": {
          "base_uri": "https://localhost:8080/"
        },
        "id": "FMvT2DpWsfGe",
        "outputId": "15c6b361-4b47-4c53-ea73-efda1e3b1b8a"
      },
      "source": [
        "print(h.digest_size)"
      ],
      "execution_count": 5,
      "outputs": [
        {
          "output_type": "stream",
          "name": "stdout",
          "text": [
            "32\n"
          ]
        }
      ]
    },
    {
      "cell_type": "code",
      "metadata": {
        "colab": {
          "base_uri": "https://localhost:8080/"
        },
        "id": "1nxYvRJKwGsW",
        "outputId": "b1a525cb-1ec9-41e0-d4cc-677de75b3abf"
      },
      "source": [
        "print(h.oid) #identifier"
      ],
      "execution_count": 6,
      "outputs": [
        {
          "output_type": "stream",
          "name": "stdout",
          "text": [
            "2.16.840.1.101.3.4.2.1\n"
          ]
        }
      ]
    },
    {
      "cell_type": "code",
      "metadata": {
        "colab": {
          "base_uri": "https://localhost:8080/"
        },
        "id": "9mRgYjx_wl-H",
        "outputId": "3e4d0e3b-c596-4fd2-8d4f-fd83dda65739"
      },
      "source": [
        "print(h.block_size) "
      ],
      "execution_count": 7,
      "outputs": [
        {
          "output_type": "stream",
          "name": "stdout",
          "text": [
            "64\n"
          ]
        }
      ]
    },
    {
      "cell_type": "markdown",
      "metadata": {
        "id": "J9jMh6lqwuQw"
      },
      "source": [
        "# **SHA- 3-512  bits**"
      ]
    },
    {
      "cell_type": "code",
      "metadata": {
        "colab": {
          "base_uri": "https://localhost:8080/"
        },
        "id": "STyXNNd5xMo1",
        "outputId": "5de6951c-cb0f-4fb9-9354-801a845626ff"
      },
      "source": [
        "from Crypto.Hash import SHA3_512\n",
        "h =  SHA3_512.new()\n",
        "h.update(b'18BCE120 Mehta Prince S')\n",
        "print(h.digest())\n",
        "print(h.hexdigest())\n",
        "print(h.digest_size)"
      ],
      "execution_count": 8,
      "outputs": [
        {
          "output_type": "stream",
          "name": "stdout",
          "text": [
            "b\"\\xb5\\x902\\xd5\\xaf \\xff\\x10s\\xb7zd\\xc6\\xf2\\xf0=+\\xa5\\x90\\x16@\\x17\\r\\xe2\\x0e\\xdac@U\\xc5\\x1a\\xb3\\xec\\xf7\\x9f\\x02t\\xd65\\x9bn\\xa9'\\x89\\xbb\\xea\\xad\\xfa\\xe9ws;\\x05V?>3k\\xed\\x91p\\xa3\\x00\\xfe\"\n",
            "b59032d5af20ff1073b77a64c6f2f03d2ba5901640170de20eda634055c51ab3ecf79f0274d6359b6ea92789bbeaadfae977733b05563f3e336bed9170a300fe\n",
            "64\n"
          ]
        }
      ]
    },
    {
      "cell_type": "markdown",
      "metadata": {
        "id": "TOOBKRUhxrC5"
      },
      "source": [
        "# **Hashed MAC**"
      ]
    },
    {
      "cell_type": "code",
      "metadata": {
        "colab": {
          "base_uri": "https://localhost:8080/"
        },
        "id": "1v-J3gkCxzIL",
        "outputId": "a7635061-c57a-42df-c223-c14472ae32ba"
      },
      "source": [
        "from Crypto.Hash import HMAC, SHA256\n",
        "secret = b'Sqordfish'\n",
        "h = HMAC.new(secret, digestmod=SHA256)\n",
        "h.update(b'18BCE120 Mehta Prince S')\n",
        "print('MAC value \\t',h.hexdigest())"
      ],
      "execution_count": 9,
      "outputs": [
        {
          "output_type": "stream",
          "name": "stdout",
          "text": [
            "MAC value \t 21119fc01aa44bb9e23cbb6841b532f03467b1ee7df2bfe6afa69b776c9a11e7\n"
          ]
        }
      ]
    },
    {
      "cell_type": "markdown",
      "metadata": {
        "id": "jl-TC1Kfye_w"
      },
      "source": [
        "# **Message Digest (MD5) algorithm**"
      ]
    },
    {
      "cell_type": "code",
      "metadata": {
        "colab": {
          "base_uri": "https://localhost:8080/"
        },
        "id": "jMobEzc6y9_I",
        "outputId": "228dc856-5a2d-4d16-aa94-faeabb9ef158"
      },
      "source": [
        "from Crypto.Hash import MD5\n",
        "h = MD5.new()\n",
        "h.update(b'Hello World')\n",
        "print(h.hexdigest())"
      ],
      "execution_count": 10,
      "outputs": [
        {
          "output_type": "stream",
          "name": "stdout",
          "text": [
            "b10a8db164e0754105b7a99be72e3fe5\n"
          ]
        }
      ]
    },
    {
      "cell_type": "markdown",
      "metadata": {
        "id": "Evmzxwbvziw1"
      },
      "source": [
        "# **Different Hash Algorithms. SHA-256, SHA3-256, BLAKE2s, RIPEMD**"
      ]
    },
    {
      "cell_type": "code",
      "metadata": {
        "colab": {
          "base_uri": "https://localhost:8080/"
        },
        "id": "r_AXrwj5zw3b",
        "outputId": "c86d0196-8abd-4a43-b938-759f852a50ba"
      },
      "source": [
        "import hashlib, binascii\n",
        "text = '18BCE120 Mehta Prince S'\n",
        "data = text.encode(\"utf8\")\n",
        "\n",
        "sha256hash =  hashlib.sha256(data).digest()\n",
        "print(\"SHA256 : \", binascii.hexlify(sha256hash))\n",
        "\n",
        "\n",
        "sha3_256hash =  hashlib.sha3_256(data).digest()\n",
        "print(\"SHA3-256 : \", binascii.hexlify(sha256hash))\n",
        "\n",
        "blake2s =  hashlib.new('blake2s',data).digest()\n",
        "print(\"blake2s : \", binascii.hexlify(blake2s))\n",
        "\n",
        "ripemd160 = hashlib.new('ripemd160',data).digest()\n",
        "print(\"ripemd160 : \", binascii.hexlify(ripemd160))\n"
      ],
      "execution_count": 11,
      "outputs": [
        {
          "output_type": "stream",
          "name": "stdout",
          "text": [
            "SHA256 :  b'5904ec30b84167de76da14592a16b33f87fe5d773aac2e44c86e42d4dbad9344'\n",
            "SHA3-256 :  b'5904ec30b84167de76da14592a16b33f87fe5d773aac2e44c86e42d4dbad9344'\n",
            "blake2s :  b'811e676f50d8b706408c63934be03f078c02236d6216a0ed576d392a9b1b67a8'\n",
            "ripemd160 :  b'2fc503401cfab511f362f21f4972a1be2cd82f8f'\n"
          ]
        }
      ]
    },
    {
      "cell_type": "markdown",
      "metadata": {
        "id": "7P8rSjEN3wKx"
      },
      "source": [
        "# **Keccak coin**"
      ]
    },
    {
      "cell_type": "code",
      "metadata": {
        "id": "2vyFaqlZ3vZu",
        "colab": {
          "base_uri": "https://localhost:8080/"
        },
        "outputId": "1b05b160-376c-4a3e-e1b9-cf38a2e5c72f"
      },
      "source": [
        "from Crypto.Hash import keccak\n",
        "import binascii\n",
        "keccak256 = keccak.new(data=b'18BC120 Mehta Prince S', digest_bits=256).digest()\n",
        "print(\"Keccak256 : \", binascii.hexlify(keccak256))\n"
      ],
      "execution_count": 12,
      "outputs": [
        {
          "output_type": "stream",
          "name": "stdout",
          "text": [
            "Keccak256 :  b'14c6ac066c56aec5ff9fd130f892aba7fc4d454460e78037337c505b265fc145'\n"
          ]
        }
      ]
    },
    {
      "cell_type": "code",
      "metadata": {
        "colab": {
          "base_uri": "https://localhost:8080/"
        },
        "id": "eu1n-rCKE4zi",
        "outputId": "2578d684-0f76-4ce0-fc64-a4fe023d2e66"
      },
      "source": [
        "import hashlib, hmac, binascii\n",
        "mac = hmac.new(b'sourcekey',b'18BC120 Mehta Prince S',hashlib.sha3_512).digest()\n",
        "print(binascii.hexlify(mac))"
      ],
      "execution_count": 13,
      "outputs": [
        {
          "output_type": "stream",
          "name": "stdout",
          "text": [
            "b'0e5c72024cdab5d4350ea20630e5e5a4371101084584746a7f00adf0215cf12d509f905b0a4e3d1c12a33a7205c832dd5f6f202657b360d2e4581ff4286d499e'\n"
          ]
        }
      ]
    },
    {
      "cell_type": "markdown",
      "metadata": {
        "id": "_7mw_QYQFQ3S"
      },
      "source": [
        "# **RSA signature and verification**"
      ]
    },
    {
      "cell_type": "code",
      "metadata": {
        "colab": {
          "base_uri": "https://localhost:8080/"
        },
        "id": "HpXYttSwFXBs",
        "outputId": "6662df16-cc30-4c6a-a713-a5e929906756"
      },
      "source": [
        "from Crypto.PublicKey import RSA\n",
        "keyPair = RSA.generate(bits=2048)\n",
        "print(f\"Public Key: (n={hex(keyPair.n)}, e={hex(keyPair.e)})\")\n",
        "print(f\"Private Key: (n={hex(keyPair.n)}, e={hex(keyPair.d)})\")"
      ],
      "execution_count": 14,
      "outputs": [
        {
          "output_type": "stream",
          "name": "stdout",
          "text": [
            "Public Key: (n=0xd848297947da04045733850b4855880be429248066acddd21f5a77617330896b097248c0675178764d22033a45d75695523180bbea660dc183a0cc571f9fd3607c8c7095ecf99eab67e0d14050412957829c575974d9979e8d07d50a745022a33dc8b424dd464e6aca2bac27e8b6a189a95556b990c407a202b420aa4d75aaad93bf7b0a99f34f9829d23c68b439b119acc44be08524405e50e3bea673183928f04f7ec3dd64694e386e469d51895e9ba2c0af8b3b0c5adac3a15d25489a3542f6570817a465b944235699f4f130ce8ea6f468a6c35885871d4db36f3773462c8f370e8a1bc94f342d3749746abb4526decb12d397f35b00cb84f88b43f96019, e=0x10001)\n",
            "Private Key: (n=0xd848297947da04045733850b4855880be429248066acddd21f5a77617330896b097248c0675178764d22033a45d75695523180bbea660dc183a0cc571f9fd3607c8c7095ecf99eab67e0d14050412957829c575974d9979e8d07d50a745022a33dc8b424dd464e6aca2bac27e8b6a189a95556b990c407a202b420aa4d75aaad93bf7b0a99f34f9829d23c68b439b119acc44be08524405e50e3bea673183928f04f7ec3dd64694e386e469d51895e9ba2c0af8b3b0c5adac3a15d25489a3542f6570817a465b944235699f4f130ce8ea6f468a6c35885871d4db36f3773462c8f370e8a1bc94f342d3749746abb4526decb12d397f35b00cb84f88b43f96019, e=0x61b00e5382399db0dc361ff49da24c459ab35e92444df60eef2c6c596eaed092b0fc969198d8fa80ec8bdd4b57ba5098373cb6b9a9c0989bfc3907b29e4d112b3676346ff34e37f59180c0e2bc9d01f04dc511cb0cf52eff6511d18edc4449b0d3ba306baa2a144735b38e19a489c0e2adc226debfdd5ad9394164b3a732eb7890482b811cc9c3d158e78f30b611fe9b175d3406179880a903cd6fd62961d20d3d810e4454e982b53864351bfb2abae21c85d4bd3965e6bae2f10c9fabd1b84540e2e4b9a357d73e913910931d0c2511cf2f6a56877d1cd5a27eab4471289074ad0f9d9942a2da3af3bd4a491939daff0a81bdaec37eb4f16c961f9a6b15a935)\n"
          ]
        }
      ]
    },
    {
      "cell_type": "code",
      "metadata": {
        "colab": {
          "base_uri": "https://localhost:8080/"
        },
        "id": "vxhk82IBF0VG",
        "outputId": "a631cc4a-c4b6-4311-b861-0fb1ed8484ff"
      },
      "source": [
        "# RSA sign the message\n",
        "msg = b'18BCE120 Mehta Prince S'\n",
        "from hashlib import sha512\n",
        "hash = int.from_bytes(sha512(msg).digest(),byteorder='big')\n",
        "signature = pow(hash , keyPair.d , keyPair.n)\n",
        "print(\"Signature : \",hex(signature))"
      ],
      "execution_count": 15,
      "outputs": [
        {
          "output_type": "stream",
          "name": "stdout",
          "text": [
            "Signature :  0xc00ddbe49d540d7914523a8a6c291b6b90efedafb050f643afa6b021ab8195988802b7ccdb9bc4827933b537fcd1ea720e452752d292bee130e29377c6ee4e7eaf010819758a274a522c8c8f266e68b6260e41a4450865f2fd2551171e4b1de01acfa12769cb41e58ad34ebe33a8901a3258fa67b21029a51ad69f65fbfe0cf274ff467c28270f6bad614e57443bd5a3362b1f13edbb159b8ce53d7b5252761da00ebb540596c75cc16ad59c7da88299a539f2b183359db9bcd2b6488c865fd722e88c0ede384569843f5226bcc7d039a4f895bdf3f769c2b91ebb6c7a2bc20bf57bb0a9082d470d29d8a75512f0654c3e66be75fffeb1efc44fe0187ac60579\n"
          ]
        }
      ]
    },
    {
      "cell_type": "code",
      "metadata": {
        "colab": {
          "base_uri": "https://localhost:8080/"
        },
        "id": "RcWL6xcIGSil",
        "outputId": "0b29966e-41c8-4205-c99c-205fb3258ba7"
      },
      "source": [
        "#RSA verify signature\n",
        "msg = b'18BCE120 Mehta Prince S'\n",
        "hash = int.from_bytes(sha512(msg).digest(),byteorder='big')\n",
        "hashFromSignature = pow(signature,keyPair.e,keyPair.n)\n",
        "print(\"Signature valid : \",hash == hashFromSignature)"
      ],
      "execution_count": 16,
      "outputs": [
        {
          "output_type": "stream",
          "name": "stdout",
          "text": [
            "Signature valid :  True\n"
          ]
        }
      ]
    },
    {
      "cell_type": "code",
      "metadata": {
        "colab": {
          "base_uri": "https://localhost:8080/"
        },
        "id": "y8Zc0fk9Gw5t",
        "outputId": "01950281-a9b5-4b4d-d997-5d514c4248e1"
      },
      "source": [
        "#Tempered msg\n",
        "msg = b'8BCE120 Mehta Prince S'\n",
        "hash = int.from_bytes(sha512(msg).digest(),byteorder='big')\n",
        "hashFromSignature = pow(signature,keyPair.e,keyPair.n)\n",
        "print(\"Signature valid : \",hash == hashFromSignature)"
      ],
      "execution_count": 17,
      "outputs": [
        {
          "output_type": "stream",
          "name": "stdout",
          "text": [
            "Signature valid :  False\n"
          ]
        }
      ]
    },
    {
      "cell_type": "markdown",
      "metadata": {
        "id": "s14LDh6UHHOm"
      },
      "source": [
        "# **RSA and PKCS library**"
      ]
    },
    {
      "cell_type": "code",
      "metadata": {
        "colab": {
          "base_uri": "https://localhost:8080/"
        },
        "id": "ODiDfkJ4HMqD",
        "outputId": "5f093c38-1c2f-4ef6-dea5-cb8ff218eaab"
      },
      "source": [
        "from Crypto.PublicKey import RSA\n",
        "from Crypto.Signature.pkcs1_15 import PKCS115_SigScheme\n",
        "from Crypto.Hash import SHA256\n",
        "import binascii\n",
        "\n",
        "keyPair = RSA.generate(bits=1024)\n",
        "pubKey = keyPair.publickey()\n",
        "\n",
        "#sign the message\n",
        "msg =  b'18BCE120 Mehta Prince S'\n",
        "hash = SHA256.new(msg)\n",
        "signer = PKCS115_SigScheme(keyPair)\n",
        "signature = signer.sign(hash)\n",
        "print(\"Signature : \",binascii.hexlify(signature))\n",
        "\n",
        "#verify correct msg\n",
        "msg =  b'18BCE120 Mehta Prince S'\n",
        "hash = SHA256.new(msg)\n",
        "verifier = PKCS115_SigScheme(pubKey)\n",
        "try:\n",
        "  verifier.verify(hash , signature)\n",
        "  print(\"Signature is valid\")\n",
        "except:\n",
        "  print(\"Signature is invalid\")\n",
        "\n",
        "#verify tempered msg\n",
        "msg =  b'8BCE120 Mehta Prince S'\n",
        "hash = SHA256.new(msg)\n",
        "verifier = PKCS115_SigScheme(pubKey)\n",
        "try:\n",
        "  verifier.verify(hash , signature)\n",
        "  print(\"Signature is valid\")\n",
        "except:\n",
        "  print(\"Signature is invalid\")"
      ],
      "execution_count": 18,
      "outputs": [
        {
          "output_type": "stream",
          "name": "stdout",
          "text": [
            "Signature :  b'5e32d496b1071b8c0fffb257001553ea43cc33cf1a771dc25781b82df3d8b86e440a68a4f6c10dd957de575ede7673581e19d79231b7f6c540a2de83b5ee24ad63765f6dc4c4edfa401e4943937770a63f1960f2a81ee900d2cd5c54ac59310ad98c9e7c53abaf533b350ea02ef9d47eaca773782ce702a001659716795201db'\n",
            "Signature is valid\n",
            "Signature is invalid\n"
          ]
        }
      ]
    },
    {
      "cell_type": "markdown",
      "metadata": {
        "id": "f7WsD_csLrD_"
      },
      "source": [
        "# **Elliptic Curve Cryptography Digital Signature generation and verification**"
      ]
    },
    {
      "cell_type": "code",
      "metadata": {
        "colab": {
          "base_uri": "https://localhost:8080/"
        },
        "id": "FS5PpsfYReQr",
        "outputId": "ad589daa-f06c-4bcb-fa9d-a882d387b7a6"
      },
      "source": [
        "pip install ecdsa"
      ],
      "execution_count": 25,
      "outputs": [
        {
          "output_type": "stream",
          "name": "stdout",
          "text": [
            "Collecting ecdsa\n",
            "  Downloading ecdsa-0.17.0-py2.py3-none-any.whl (119 kB)\n",
            "\u001b[K     |████████████████████████████████| 119 kB 3.1 MB/s \n",
            "\u001b[?25hRequirement already satisfied: six>=1.9.0 in /usr/local/lib/python3.7/dist-packages (from ecdsa) (1.15.0)\n",
            "Installing collected packages: ecdsa\n",
            "Successfully installed ecdsa-0.17.0\n"
          ]
        }
      ]
    },
    {
      "cell_type": "code",
      "metadata": {
        "colab": {
          "base_uri": "https://localhost:8080/"
        },
        "id": "IZfrGiwzRjHp",
        "outputId": "e62201ee-8e37-4234-ba12-7c6a138fe344"
      },
      "source": [
        "from ecdsa import SigningKey\n",
        "sign = SigningKey.generate()\n",
        "verify = sign.verifying_key\n",
        "print(\"Signing Key: \", sign.to_string())\n",
        "print(\"Verifying Key: \", verify.to_string())\n",
        "signature = sign.sign(msg)\n",
        "assert verify.verify(signature, msg)"
      ],
      "execution_count": 27,
      "outputs": [
        {
          "output_type": "stream",
          "name": "stdout",
          "text": [
            "Signing Key:  b'\\xf1J<\\x99l\\xbe\\xdc\\xb1\\x94\\xeb\\x90\\xb4\\x00p\\xd0\\xfd\\xe7\\xc1D\\xe8\\xfc\\x1f\\x94\\xc7'\n",
            "Verifying Key:  b'\\x13\\xc7\\xcbEn\"\\xf7@\\xf7^\\x06\\xe4E\\x84\\x05\\x88t\"\\x0b\\xa6\\x9b\\xdfl\\x80NvU\\xc0\\xa1b\\xda\\x82tjA\\x1f\\xa1VLy\\x18\\xd0\\xdfQ\\xa3\\x1bw\\x08'\n"
          ]
        }
      ]
    },
    {
      "cell_type": "code",
      "metadata": {
        "id": "zmjughA_T-tZ"
      },
      "source": [
        ""
      ],
      "execution_count": null,
      "outputs": []
    },
    {
      "cell_type": "code",
      "metadata": {
        "id": "cd0ELje4SkZh"
      },
      "source": [
        ""
      ],
      "execution_count": null,
      "outputs": []
    }
  ]
}